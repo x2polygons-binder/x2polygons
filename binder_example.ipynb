{
 "cells": [
  {
   "cell_type": "markdown",
   "id": "2da7a042",
   "metadata": {},
   "source": [
    "# Introduction\n",
    "\n",
    "This notebook allows computation and analyses of 1-1 matching polygons between OSM and Bavaria building dataset."
   ]
  },
  {
   "cell_type": "code",
   "execution_count": null,
   "id": "468847da",
   "metadata": {},
   "outputs": [],
   "source": [
    "# Import the required source files\n",
    "from determine_one_to_ones import *\n",
    "from analyse_distances import *\n",
    "import time\n",
    "\n",
    "# Time the execution start time\n",
    "st = time.time()\n",
    "\n",
    "dataset_1 = 'osm'\n",
    "dataset_2 = 'reference'"
   ]
  },
  {
   "cell_type": "code",
   "execution_count": null,
   "id": "1661646a",
   "metadata": {},
   "outputs": [],
   "source": [
    "# Determine the site to analyse\n",
    "site_id = 'binder_test_site'"
   ]
  },
  {
   "cell_type": "code",
   "execution_count": null,
   "id": "05c1eafc",
   "metadata": {},
   "outputs": [],
   "source": [
    "# 1.Finding the intersecting polygons on the given test site\n",
    "# This function generates the intersections.txt file that has the following five attributes: \n",
    "#<intersection_id osm_id reference_id IoU building_type>\n",
    "\n",
    "# show_progress = True would print out the current transaction\n",
    "find_intersecting_polygons(site_id, dataset_1, dataset_2, show_progress = False)"
   ]
  },
  {
   "cell_type": "code",
   "execution_count": null,
   "id": "f4ac1150",
   "metadata": {},
   "outputs": [],
   "source": [
    "# 2. Finding the candidates for 1-1 matches on both source-destination pair.\n",
    "# Requires the completion of first step in both-order (i.e. osm-reference & reference-osm)\n",
    "# This function identifies the unique osm ids and reference ids, and store them under the candidates dictionary.\n",
    "# candidates['dataset_1'] stores the candidate ids in the dataset_1\n",
    "# candidates['dataset_2'] stores the candidate ids in the dataset_2\n",
    "\n",
    "candidates = identify_candidate_buildings(site_id)"
   ]
  },
  {
   "cell_type": "code",
   "execution_count": null,
   "id": "4dc03171",
   "metadata": {},
   "outputs": [],
   "source": [
    "# 3. Obtain 1-1s. \n",
    "# In the candidates, there may still be 1-n matches. \n",
    "# This function enables the detection of 1-1 matches.\n",
    "# Output is recorded in the file:  one_to_ones.txt\n",
    "#<intersection_id osm_id reference_id IoU building_type>\n",
    "identify_one_to_ones(site_id, candidates)"
   ]
  },
  {
   "cell_type": "code",
   "execution_count": null,
   "id": "ca9cf1ac",
   "metadata": {},
   "outputs": [],
   "source": [
    "# 4. Selecting the 1-1 polygons on QGIS - for visual purpose and ease computation. \n",
    "# The reversing of source & destination should not change the content:\n",
    "export_one_to_ones(site_id, 'gid')"
   ]
  },
  {
   "cell_type": "code",
   "execution_count": null,
   "id": "1bff0831",
   "metadata": {},
   "outputs": [],
   "source": [
    "# 5. Distance computation between matching georeferenced polygons\n",
    "compute_distances(site_id, show_progress = False)\n",
    "# Saves the file in results.txt which has the following attributes:\n",
    "#<id osm_gid ref_gid b_type iou hausdorff chamfer polis tf>"
   ]
  },
  {
   "cell_type": "code",
   "execution_count": null,
   "id": "92b3bb2a",
   "metadata": {},
   "outputs": [],
   "source": [
    "# Find the ranks - investigate the polygons having the top-k rank differences\n",
    "obtain_ranked_distances(site_id, distance_measures=['hausdorff', 'chamfer']) # creates the results_ranked_sorted.txt file\n",
    "# Optional input: distance_measures: The rank difference between two input distance measures \n",
    "\n",
    "# The .txt file without the distance_measures input has the following attributes:\n",
    "#<id osm_gid ref_gid iou r_h r_c r_p r_tf r_difference>\n",
    "\n",
    "# The .txt file with the distance_measures input has the following attributes:\n",
    "#<id osm_gid ref_gid iou r_h r_c r_p r_tf r_difference ds1_ds2> # ds1_ds2 is the rank difference between the selected distance measures\n",
    "\n",
    "heatmap_ranked_distances(site_id)"
   ]
  },
  {
   "cell_type": "code",
   "execution_count": null,
   "id": "24e28f0f",
   "metadata": {},
   "outputs": [],
   "source": [
    "# 6. Investigate correlation between distance measures\n",
    "# 6.1. Scatter plot of two measures\n",
    "# Distance measures: ['hausdorff', 'chamfer', 'polis', 'turn_function']\n",
    "# The resulting scatter plot is also saved under the site_id directory\n",
    "d1 = 'hausdorff'\n",
    "d2 = 'chamfer'\n",
    "correlation_between_distance_measures(site_id, d1, d2, plot = True)"
   ]
  },
  {
   "cell_type": "code",
   "execution_count": null,
   "id": "3d77ee63",
   "metadata": {},
   "outputs": [],
   "source": [
    "# Plotting the turn function of a polygon\n",
    "from x2polygons.polygon_distance import *\n",
    "from x2polygons.plot import *\n",
    "\n",
    "script_dir= os.getcwd()\n",
    "site_path = site_id + '/'\n",
    "data_path = os.path.join(script_dir, site_path, 'matched_reference.shp')\n",
    "data = dict()\n",
    "data['reference'] = gpd.read_file(data_path)\n",
    "#obtain the polygon with a given gid\n",
    "target_gid = 104131\n",
    "\n",
    "# Filter the GeoDataFrame to obtain the polygon with the specified GID\n",
    "target_polygon = data['reference'][data['reference']['gid'] == target_gid]\n",
    "\n",
    "type(target_polygon.geometry)\n",
    "from shapely.ops import unary_union\n",
    "merged_polygon = unary_union(target_polygon.geometry)\n",
    "#print(merged_polygon)\n",
    "plot_turning_function(turning_function(merged_polygon))"
   ]
  },
  {
   "cell_type": "code",
   "execution_count": null,
   "id": "6239aa3c",
   "metadata": {},
   "outputs": [],
   "source": [
    "d1 = 'hausdorff'\n",
    "d2 = 'chamfer'\n",
    "correlation_between_distance_measures(site_id, d1, d2, plot = True)"
   ]
  },
  {
   "cell_type": "code",
   "execution_count": null,
   "id": "71a8da5e",
   "metadata": {},
   "outputs": [],
   "source": [
    "# 6. Investigate correlation between distance measures\n",
    "# 6.2. Obtain the cross-correlation between all distance measures\n",
    "d1 = ['hausdorff', 'chamfer', 'polis', 'turn_function']\n",
    "d2 = ['hausdorff', 'chamfer', 'polis', 'turn_function']\n",
    "\n",
    "corr = np.zeros((len(d1), len(d2)))\n",
    "\n",
    "# Fill the correlation matrix with correlation values\n",
    "for i, measure1 in enumerate(d1):\n",
    "    for j, measure2 in enumerate(d2):\n",
    "        corr[i, j] = correlation_between_distance_measures(site_id, measure1, measure2, plot = False)\n",
    "        #print(measure1, measure2, corr[i, j])\n",
    "\n",
    "# Produce the correlation heatmap\n",
    "correlation_heatmap(site_id, corr)\n"
   ]
  },
  {
   "cell_type": "code",
   "execution_count": null,
   "id": "fe23f48f",
   "metadata": {},
   "outputs": [],
   "source": [
    "# Visualise a sample matching case \n",
    "# E.g. The second case that had the highest rank difference for site 2\n",
    "site_id = \"site1\"\n",
    "p_osm = 242708\n",
    "p_reference = 127186\n",
    "\n",
    "visualise_matching_polygons(site_id, p_osm, p_reference)\n",
    "\n",
    "# If Inskscape is installed, the figure could be exported as emf for vector graphics\n",
    "#visualise_matching_polygons(site_id, p_osm, p_reference, export_as_emf = True)\n"
   ]
  },
  {
   "cell_type": "code",
   "execution_count": null,
   "id": "97763be9",
   "metadata": {},
   "outputs": [],
   "source": [
    "# Record the execution time\n",
    "et = time.time()\n",
    "elapsed_time = et - st\n",
    "print('Execution time:', elapsed_time/60, 'minutes')"
   ]
  }
 ],
 "metadata": {
  "kernelspec": {
   "display_name": "Python 3",
   "language": "python",
   "name": "python3"
  },
  "language_info": {
   "codemirror_mode": {
    "name": "ipython",
    "version": 3
   },
   "file_extension": ".py",
   "mimetype": "text/x-python",
   "name": "python",
   "nbconvert_exporter": "python",
   "pygments_lexer": "ipython3",
   "version": "3.8.3"
  }
 },
 "nbformat": 4,
 "nbformat_minor": 5
}
